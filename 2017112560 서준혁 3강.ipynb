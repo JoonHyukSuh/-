{
 "cells": [
  {
   "cell_type": "code",
   "execution_count": 56,
   "metadata": {},
   "outputs": [],
   "source": [
    "import csv"
   ]
  },
  {
   "cell_type": "code",
   "execution_count": 83,
   "metadata": {},
   "outputs": [],
   "source": [
    "f=open('seoul.csv')\n",
    "s_data = csv.reader(f)\n",
    "header = next(s_data)\n",
    "s_min_temp = 999\n",
    "s_min_date = \"\"\n",
    "min_temp = 999\n",
    "min_date = \"\"\n",
    "min_place = \"서울\""
   ]
  },
  {
   "cell_type": "code",
   "execution_count": 84,
   "metadata": {},
   "outputs": [
    {
     "name": "stdout",
     "output_type": "stream",
     "text": [
      "서울의 역대 최저 기온은 -23.1 도, 1927-12-31 일 입니다.\n"
     ]
    }
   ],
   "source": [
    "for row in s_data:\n",
    "    if row[3] == '':\n",
    "        row[3] = 999\n",
    "    else:\n",
    "        row[3] = float(row[3])     \n",
    "    if s_min_temp > row[3]:\n",
    "        s_min_temp = row[3]\n",
    "        s_min_date = row[0]\n",
    "        \n",
    "print(\"서울의 역대 최저 기온은\", s_min_temp, '도,' , s_min_date, '일 입니다.')"
   ]
  },
  {
   "cell_type": "code",
   "execution_count": 85,
   "metadata": {},
   "outputs": [],
   "source": [
    "f=open('incheon.csv')\n",
    "i_data = csv.reader(f)\n",
    "header = next(i_data)\n",
    "i_min_temp = 999\n",
    "i_min_date = \"\""
   ]
  },
  {
   "cell_type": "code",
   "execution_count": 87,
   "metadata": {},
   "outputs": [
    {
     "name": "stdout",
     "output_type": "stream",
     "text": [
      "인천의 역대 최저 기온은 -21.0 도, 1931-01-11 일 입니다.\n"
     ]
    }
   ],
   "source": [
    "for row in i_data:\n",
    "    if row[3] == '':\n",
    "        row[3] = 999\n",
    "    else:\n",
    "        row[3] = float(row[3])     \n",
    "    if i_min_temp > row[3]:\n",
    "        i_min_temp = row[3]\n",
    "        i_min_date = row[0]\n",
    "\n",
    "print(\"인천의 역대 최저 기온은\", i_min_temp, '도,' , i_min_date, '일 입니다.')"
   ]
  },
  {
   "cell_type": "code",
   "execution_count": 89,
   "metadata": {},
   "outputs": [
    {
     "name": "stdout",
     "output_type": "stream",
     "text": [
      "관측 이래 서울과 인천 중 가장 추웠던 장소는 서울 이었고, -23.1 도 였습니다\n"
     ]
    }
   ],
   "source": [
    "if s_min_temp > i_min_temp :\n",
    "    min_temp = i_min_temp\n",
    "    min_date = i_min_date\n",
    "    min_place = \"인천\"\n",
    "else:\n",
    "    min_temp = s_min_temp\n",
    "    min_date = s_min_date\n",
    "    min_place = \"서울\"    \n",
    "print(\"관측 이래 서울과 인천 중 가장 추웠던 장소는\", min_place, \"이었고,\" , min_temp,\"도 였습니다\")"
   ]
  }
 ],
 "metadata": {
  "kernelspec": {
   "display_name": "Python 3",
   "language": "python",
   "name": "python3"
  },
  "language_info": {
   "codemirror_mode": {
    "name": "ipython",
    "version": 3
   },
   "file_extension": ".py",
   "mimetype": "text/x-python",
   "name": "python",
   "nbconvert_exporter": "python",
   "pygments_lexer": "ipython3",
   "version": "3.8.5"
  }
 },
 "nbformat": 4,
 "nbformat_minor": 4
}
